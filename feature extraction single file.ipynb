{
 "cells": [
  {
   "cell_type": "code",
   "execution_count": 22,
   "id": "4bfb5d8a",
   "metadata": {},
   "outputs": [],
   "source": [
    "import librosa\n",
    "from librosa import feature\n",
    "import numpy as np\n",
    "fn_list_i = [\n",
    "    feature.chroma_stft,\n",
    "    feature.spectral_centroid,\n",
    "    feature.spectral_bandwidth,\n",
    "    feature.spectral_rolloff\n",
    "]\n",
    " \n",
    "fn_list_ii = [\n",
    "    feature.zero_crossing_rate\n",
    "]\n",
    "def get_feature_vector(y,sr): \n",
    "    feat_vect_i = [ np.mean(funct(y,sr)) for funct in fn_list_i]\n",
    "    feat_vect_ii = [ np.mean(funct(y)) for funct in fn_list_ii] \n",
    "    feature_vector = feat_vect_i + feat_vect_ii \n",
    "    return feature_vector"
   ]
  },
  {
   "cell_type": "code",
   "execution_count": 46,
   "id": "6d127efe",
   "metadata": {},
   "outputs": [
    {
     "name": "stderr",
     "output_type": "stream",
     "text": [
      "C:\\Users\\Rahul\\AppData\\Local\\Temp\\ipykernel_25204\\2960980483.py:15: FutureWarning: Pass y=[ 0.0000000e+00 -1.5258789e-05  0.0000000e+00 ...  7.3242188e-04\n",
      "  1.2054443e-03  1.5869141e-03], sr=48000 as keyword args. From version 0.10 passing these as positional arguments will result in an error\n",
      "  feat_vect_i = [ np.mean(funct(y,sr)) for funct in fn_list_i]\n"
     ]
    }
   ],
   "source": [
    "norm_audios_feat = []\n",
    "file=\"C:\\\\Users\\\\Rahul\\\\Desktop\\\\language recognition\\\\Hindi.wav\"\n",
    "y , sr = librosa.load(file,sr=None,offset = 0.0,duration = 5.0)\n",
    "feature_vector = get_feature_vector(y, sr)\n",
    "norm_audios_feat.append(feature_vector) \n"
   ]
  },
  {
   "cell_type": "code",
   "execution_count": 47,
   "id": "1eeacc46",
   "metadata": {},
   "outputs": [
    {
     "data": {
      "text/plain": [
       "'sample_audio.csv'"
      ]
     },
     "execution_count": 47,
     "metadata": {},
     "output_type": "execute_result"
    }
   ],
   "source": [
    "import csv\n",
    "norm_output = \"sample_audio.csv\"\n",
    "header =[\n",
    " \"chroma_stft\",\n",
    " \"spectral_centroid\",\n",
    " \"spectral_bandwidth\",\n",
    " \"spectral_rolloff\",\n",
    " \"zero_crossing_rate\"\n",
    "]\n",
    "with open(norm_output,\"+w\") as f:\n",
    "    csv_writer = csv.writer(f, delimiter = \",\")\n",
    "    csv_writer.writerow(header)\n",
    "    csv_writer.writerows(norm_audios_feat)\n",
    "\n",
    "\n",
    "norm_output"
   ]
  },
  {
   "cell_type": "code",
   "execution_count": 48,
   "id": "37cb4d80",
   "metadata": {
    "scrolled": true
   },
   "outputs": [
    {
     "data": {
      "text/html": [
       "<div>\n",
       "<style scoped>\n",
       "    .dataframe tbody tr th:only-of-type {\n",
       "        vertical-align: middle;\n",
       "    }\n",
       "\n",
       "    .dataframe tbody tr th {\n",
       "        vertical-align: top;\n",
       "    }\n",
       "\n",
       "    .dataframe thead th {\n",
       "        text-align: right;\n",
       "    }\n",
       "</style>\n",
       "<table border=\"1\" class=\"dataframe\">\n",
       "  <thead>\n",
       "    <tr style=\"text-align: right;\">\n",
       "      <th></th>\n",
       "      <th>chroma_stft</th>\n",
       "      <th>spectral_centroid</th>\n",
       "      <th>spectral_bandwidth</th>\n",
       "      <th>spectral_rolloff</th>\n",
       "      <th>zero_crossing_rate</th>\n",
       "    </tr>\n",
       "  </thead>\n",
       "  <tbody>\n",
       "    <tr>\n",
       "      <th>0</th>\n",
       "      <td>0.382188</td>\n",
       "      <td>2273.82288</td>\n",
       "      <td>2253.322365</td>\n",
       "      <td>3733.958555</td>\n",
       "      <td>0.059052</td>\n",
       "    </tr>\n",
       "  </tbody>\n",
       "</table>\n",
       "</div>"
      ],
      "text/plain": [
       "   chroma_stft  spectral_centroid  spectral_bandwidth  spectral_rolloff  \\\n",
       "0     0.382188         2273.82288         2253.322365       3733.958555   \n",
       "\n",
       "   zero_crossing_rate  \n",
       "0            0.059052  "
      ]
     },
     "execution_count": 48,
     "metadata": {},
     "output_type": "execute_result"
    }
   ],
   "source": [
    "import pandas as pd\n",
    "data= pd.read_csv('sample_audio.csv')\n",
    "data"
   ]
  },
  {
   "cell_type": "code",
   "execution_count": 52,
   "id": "be45c4c2",
   "metadata": {},
   "outputs": [
    {
     "data": {
      "text/plain": [
       "[0.38218814,\n",
       " 2273.822880283223,\n",
       " 2253.3223647110294,\n",
       " 3733.9585554371,\n",
       " 0.0590518390191897]"
      ]
     },
     "execution_count": 52,
     "metadata": {},
     "output_type": "execute_result"
    }
   ],
   "source": [
    "Input=data.loc[0].values.tolist()"
   ]
  }
 ],
 "metadata": {
  "kernelspec": {
   "display_name": "Python 3 (ipykernel)",
   "language": "python",
   "name": "python3"
  },
  "language_info": {
   "codemirror_mode": {
    "name": "ipython",
    "version": 3
   },
   "file_extension": ".py",
   "mimetype": "text/x-python",
   "name": "python",
   "nbconvert_exporter": "python",
   "pygments_lexer": "ipython3",
   "version": "3.9.12"
  }
 },
 "nbformat": 4,
 "nbformat_minor": 5
}
